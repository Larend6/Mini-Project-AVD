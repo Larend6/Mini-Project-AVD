{
  "cells": [
    {
      "cell_type": "markdown",
      "metadata": {
        "id": "S_t78svSNAAI"
      },
      "source": [
        "# **BUSINESS UNDERSTANDING**"
      ]
    },
    {
      "cell_type": "markdown",
      "metadata": {
        "id": "vdRYTpmzN6fw"
      },
      "source": [
        "## Business Objective"
      ]
    },
    {
      "cell_type": "markdown",
      "metadata": {
        "id": "t0KwM479OE9s"
      },
      "source": [
        "Tujuan utama dari proyek ini adalah untuk memahami pola dan tren dalam daftar buku terlaris di e-commerce Amazon guna memberikan wawasan bagi penerbit, penulis, dan pengecer buku. Dengan menganalisis faktor-faktor seperti rating pengguna, jumlah ulasan, harga, dan genre bertujuan untuk mengidentifikasi komponen utama yang berkontribusi terhadap kesuksesan sebuah buku di pasar, juga dengan adanya proyek ini dapat membantu dalam pengambilan keputusan strategis terkait pemasaran, penetapan harga, dan rekomendasi buku kepada pembaca"
      ]
    },
    {
      "cell_type": "markdown",
      "metadata": {
        "id": "-oqfiAPVSWiH"
      },
      "source": [
        "## Assess Situation"
      ]
    },
    {
      "cell_type": "markdown",
      "metadata": {
        "id": "2tRLBbGmXHIn"
      },
      "source": [
        "Dalam industri penerbitan yang semakin kompetitif, memahami kondisi pasar menjadi langkah penting untuk memastikan keberhasilan bisnis. Hal ini mencakup analisis menyeluruh terhadap tren pembaca, strategi pemasaran pesaing, serta faktor eksternal seperti perkembangan teknologi dan perubahan kebiasaan konsumsi. Dengan menggali wawasan dari data penjualan dan preferensi pembaca, penerbit dan penulis dapat mengidentifikasi peluang pertumbuhan, dan membuat strategi pemasaran yang lebih tepat sasaran"
      ]
    },
    {
      "cell_type": "markdown",
      "metadata": {
        "id": "9HUitZ4jXvQa"
      },
      "source": [
        "## Data Mining Goals"
      ]
    },
    {
      "cell_type": "markdown",
      "metadata": {
        "id": "mR7vN5XdX1t_"
      },
      "source": [
        "Menganalisis pola konsumsi buku dan faktor-faktor yang mempengaruhi kesuksesan sebuah judul di pasar. Dengan mengevaluasi rating pengguna, jumlah ulasan, harga, serta genre, data mining ini bertujuan untuk mengidentifikasi tren utama dalam industri penerbitan. Selain itu, analisis ini juga bertujuan untuk menemukan hubungan antara harga dan kepuasan pelanggan, membandingkan popularitas antar-genre, serta memberikan wawasan strategis bagi penerbit dan penulis dalam meningkatkan daya tarik buku mereka"
      ]
    },
    {
      "cell_type": "markdown",
      "metadata": {
        "id": "OIEXB8w-dpYu"
      },
      "source": [
        "# Project Plan"
      ]
    },
    {
      "cell_type": "markdown",
      "metadata": {
        "id": "bqxRIU4Nduh-"
      },
      "source": [
        "\n",
        "\n",
        "1. **Pengumpulan Data**: Mengumpulkan data dari dataset yang sudah didapatkan\n",
        "2. **Pembersihan Data**: Memeriksa dan membersihkan data dari duplikasi, kesalahan, atau data yang tidak relevan agar analisis lebih akurat\n",
        "3. **Eksplorasi dan Visualisasi Data**: Menganalisis distribusi data untuk memahami tren awal, seperti pola harga, jumlah ulasan, dan performa genre tertentu lalu memvisualkan data tersebut dalam bentuk grafik dan diagram\n",
        "4. **Pemodelan dan Interpretasi Data**: Menganalisis hubungan antar variabel dengan metode statistik dan menyajikan hasil temuan sesuai dengan kesimpulan yang didapatkan setelah mengidentifikasi tren, hubungan, atau anomali dalam data\n",
        "5. **Dokumentasi dan Presentasi Data**: Menyusun hasil analisis dalam bentuk laporan dan menyampaikan hasil analisis berupa slide presentasi maupun dashboard data yang sudah dibuatkan"
      ]
    }
  ],
  "metadata": {
    "colab": {
      "provenance": []
    },
    "kernelspec": {
      "display_name": "Python 3",
      "name": "python3"
    },
    "language_info": {
      "name": "python"
    }
  },
  "nbformat": 4,
  "nbformat_minor": 0
}
